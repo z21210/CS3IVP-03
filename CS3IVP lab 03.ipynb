{
 "cells": [
  {
   "cell_type": "markdown",
   "id": "c0801d16",
   "metadata": {},
   "source": [
    "# <center>Aston University <br/><br/> CS3IVP: Digital Image and Video Processing <br/><br/> Lab 03</center>\n",
    "\n",
    "Lecturer: Luis J. Manso <a href=\"mailto:l.manso@aston.ac.uk\">l.manso@aston.ac.uk</a> <br/>\n",
    "Office: MB214D <br/>\n",
    "\n",
    "## Goals\n",
    "To revisit previous laboratory sessions.\n",
    "\n",
    "\n",
    "## Instructions\n",
    "No submission is required for this laboratory."
   ]
  },
  {
   "cell_type": "markdown",
   "id": "d64de149",
   "metadata": {},
   "source": [
    "## Task 3.1\n",
    "Assume that `v` and `u` are NumPy matrices of the same size, composed of **a single row** (*e.g.*, $(1.1, 2.1, 0.4, 3.2, 1.4, 9.2)$). Rewrite the code in the following sub-tasks without using any loop.\n",
    "\n",
    "Advice:\n",
    "- Creating the `v` and `u` variables will help you check that your answer is correct. For that purpose you can use the NumPy's random array generation function `np.random.random` *e.g.*, `row_vector = np.random.random((1,10))`.\n",
    "- For task 4.1.b, you can run the loop-based code to check if both solutions give the same values. If you do so, please do not forget to make copies of the matrices, as **the code overwrites** them.\n",
    "- To make a copy of an array (to avoid one being overwritten) you can use NumPy's `array` constructor: *e.g.*, `copy_of_the_array = np.array(original_array)`.\n",
    "\n",
    "\n",
    "\n",
    "## Task 3.1.a\n",
    "The equation $w = v \\times u + 5\\times u - 10$"
   ]
  },
  {
   "cell_type": "code",
   "execution_count": 32,
   "id": "0022368e",
   "metadata": {},
   "outputs": [
    {
     "data": {
      "text/html": [
       "<style>.container { width:90% !important; }</style>"
      ],
      "text/plain": [
       "<IPython.core.display.HTML object>"
      ]
     },
     "metadata": {},
     "output_type": "display_data"
    },
    {
     "name": "stdout",
     "output_type": "stream",
     "text": [
      "[[-6.23909205 -8.89423394 -7.15445819 -6.99840633 -8.25126797 -5.22371931\n",
      "  -6.54634249 -6.48450298 -9.74965053 -9.8671799 ]]\n"
     ]
    }
   ],
   "source": [
    "import matplotlib.pyplot as plt\n",
    "import numpy as np\n",
    "from numpy import cos, pi\n",
    "from skimage.io import imread, imsave, imshow\n",
    "\n",
    "from IPython.display import display, HTML\n",
    "display(HTML(\"<style>.container { width:90% !important; }</style>\"))\n",
    "\n",
    "# WRITE YOUR CODE BELOW (DO NOT DELETE THIS LINE OR THE LINES ABOVE)\n",
    "\n",
    "v, u = np.random.random((1,10)), np.random.random((1,10))t\n",
    "w = v * u + 5 * u - 10\n",
    "print(w)\n",
    "\n",
    "# WRITE YOUR CODE ABOVE (DO NOT DELETE THIS LINE OR THE LINES BELOW)"
   ]
  },
  {
   "cell_type": "markdown",
   "id": "79af2c91",
   "metadata": {},
   "source": [
    "## Task 3.1.b\n",
    "The following code:\n",
    "```\n",
    "for i in range(v.shape[1]):\n",
    "    v[0,i] = v[0,i]/u[0,i] + cos(2.*pi*u[0,i])\n",
    "```"
   ]
  },
  {
   "cell_type": "code",
   "execution_count": 3,
   "id": "39129a3b",
   "metadata": {},
   "outputs": [
    {
     "name": "stdout",
     "output_type": "stream",
     "text": [
      "[[0.29084768 0.90196916 0.07716403 0.47548756 0.85598882 0.39204334\n",
      "  0.05318349 0.07340447 0.24304349 0.81545233]]\n",
      "[[-0.36637789  1.90475208  2.04080167 -0.07302643  0.77192597  0.53537286\n",
      "   0.15069994  1.05972326 -0.50337413  1.70330362]]\n"
     ]
    }
   ],
   "source": [
    "# WRITE YOUR CODE BELOW (DO NOT DELETE THIS LINE)\n",
    "print(v)\n",
    "v[0] = v[0]/u[0] + cos(2 * pi * u[0])\n",
    "print(v)\n",
    "# WRITE YOUR CODE ABOVE (DO NOT DELETE THIS LINE)"
   ]
  },
  {
   "cell_type": "markdown",
   "id": "1943fdd7",
   "metadata": {},
   "source": [
    "## Task 3.2\n",
    "Considering the code below. What would be the values of the `x`, `y` and `z` variables after the initial assignment, the call to `function1`, the call to `function2` and the division? That is, in lines 14, 17, 20, and 23. For each of the **four**, provide the values of the three variables.\n",
    "\n",
    "\n",
    "**Write your answers in the code cell below.**\n",
    "\n",
    "```\n",
    "01 def function1(x):\n",
    "02     return x+1\n",
    "03 \n",
    "04 def function2(a, b, z):\n",
    "05     z = z * 2\n",
    "06     a = a + z\n",
    "07     b = a^2\n",
    "08     return b\n",
    "09 \n",
    "10 #  Initial assignments\n",
    "11 x = np.array( [[ 0,  1]] )\n",
    "12 y = np.array( [[20, 30]] )\n",
    "13 z = np.array( [[ 1,  1]] )\n",
    "14 \n",
    "15 #  Call to function1\n",
    "16 x = function1(x)\n",
    "17 \n",
    "18 #  Call to function1\n",
    "19 z = function2(x, y, z)\n",
    "20 \n",
    "21 #  Division\n",
    "22 z = z/2\n",
    "23\n",
    "```"
   ]
  },
  {
   "cell_type": "code",
   "execution_count": 3,
   "id": "1e286439",
   "metadata": {},
   "outputs": [
    {
     "name": "stdout",
     "output_type": "stream",
     "text": [
      "[[0 1]] [[20 30]] [[1 1]]\n",
      "[[1 2]] [[20 30]] [[1 1]]\n",
      "[[1 2]] [[20 30]] [[ 9 16]]\n",
      "[[1 2]] [[20 30]] [[4.5 8. ]]\n"
     ]
    }
   ],
   "source": [
    "# WRITE YOUR CODE BELOW (DO NOT DELETE THIS LINE OR THE LINES ABOVE)\n",
    "\n",
    "x = np.array( [[ 0,  1]] )\n",
    "y = np.array( [[20, 30]] )\n",
    "z = np.array( [[ 1,  1]] )\n",
    "print(x,y,z)\n",
    "\n",
    "x = x+1\n",
    "print(x,y,z)\n",
    "\n",
    "z = (x + z * 2 )**2\n",
    "print(x,y,z)\n",
    "\n",
    "z = z/2\n",
    "print(x,y,z)\n",
    "\n",
    "# WRITE YOUR CODE ABOVE (DO NOT DELETE THIS LINE OR THE LINES BELOW)"
   ]
  },
  {
   "cell_type": "markdown",
   "id": "01a38798",
   "metadata": {},
   "source": [
    "## Task 3.3\n",
    "Write a function `slice` which performs intensity slicing as defined in the \"Global Image Enhancement\" lecture slides. As arguments, it should take an image matrix, a two-element list containing the critical values defining the slice, and a value to which to send pixels falling between the two critical values. For example, the following call:\n",
    "\n",
    "`slice(img, [100,150], 0)`\n",
    "\n",
    "should return a copy of `img` in which all pixels with values in the range $[100,150]$ (inclusive) have been sent to $0$ (black).\n",
    "\n",
    "Hint: Remember that you can use NumPy's logical operators (*e.g.*, `logical_or`, `logical_and`) to compute a boolean mask."
   ]
  },
  {
   "cell_type": "code",
   "execution_count": 33,
   "id": "06583aad",
   "metadata": {},
   "outputs": [],
   "source": [
    "import numpy as np\n",
    "import matplotlib.pyplot as plt\n",
    "from skimage.io import imread, imsave, imshow\n",
    "\n",
    "# WRITE YOUR CODE BELOW (DO NOT DELETE THIS LINE OR THE LINES ABOVE)\n",
    "\n",
    "def slice(m, bounds, sendTo):\n",
    "    lower, upper = bounds[0], bounds[1]\n",
    "    m[np.logical_and(m >= lower, m <= upper)] = sendTo\n",
    "    return m\n",
    "    \n",
    "# WRITE YOUR CODE ABOVE (DO NOT DELETE THIS LINE OR THE LINES BELOW)"
   ]
  },
  {
   "cell_type": "markdown",
   "id": "011cfb07",
   "metadata": {},
   "source": [
    "## Task 3.4\n",
    "Download the image `house.bmp` from Blackboard. In this task, you will use your `slice` function to slice the sky from the image so that its pixels are sent to black.\n",
    "- Use the function with appropriate values to process the image.\n",
    "- Display the result.\n",
    "- Using a histogram to choose good threshold values. Please plot the histogram and state why the values you used are good in a comment."
   ]
  },
  {
   "cell_type": "code",
   "execution_count": 34,
   "id": "8ebe50a3",
   "metadata": {},
   "outputs": [
    {
     "data": {
      "image/png": "[encoded data removed]",
      "text/plain": [
       "<Figure size 432x288 with 2 Axes>"
      ]
     },
     "metadata": {
      "needs_background": "light"
     },
     "output_type": "display_data"
    }
   ],
   "source": [
    "# WRITE YOUR CODE BELOW (DO NOT DELETE THIS LINE)\n",
    "\n",
    "img = imread('house.bmp')\n",
    "values = np.hstack(img)\n",
    "figs, axes = plt.subplots(2,1)\n",
    "axes[0].hist(values, bins=256);\n",
    "axes[1] = imshow(slice(img, [175,200], 0)) \n",
    "'''\n",
    " [175,200] is a good range because the histogram shows it to contain many pixels\n",
    " of similar colours, and the sky in the image consists of many pixels of similar\n",
    " colours.\n",
    "''';\n",
    "\n",
    "# WRITE YOUR CODE ABOVE (DO NOT DELETE THIS LINE)"
   ]
  },
  {
   "cell_type": "code",
   "execution_count": null,
   "id": "963b5365",
   "metadata": {},
   "outputs": [],
   "source": []
  }
 ],
 "metadata": {
  "kernelspec": {
   "display_name": "Python 3 (ipykernel)",
   "language": "python",
   "name": "python3"
  },
  "language_info": {
   "codemirror_mode": {
    "name": "ipython",
    "version": 3
   },
   "file_extension": ".py",
   "mimetype": "text/x-python",
   "name": "python",
   "nbconvert_exporter": "python",
   "pygments_lexer": "ipython3",
   "version": "3.9.12"
  }
 },
 "nbformat": 4,
 "nbformat_minor": 5
}
